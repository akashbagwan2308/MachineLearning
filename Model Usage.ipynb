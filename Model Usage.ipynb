{
 "cells": [
  {
   "cell_type": "markdown",
   "id": "aaae961c",
   "metadata": {},
   "source": [
    "## Model Testing Making Predictions "
   ]
  },
  {
   "cell_type": "code",
   "execution_count": null,
   "id": "3a1c5849",
   "metadata": {},
   "outputs": [],
   "source": [
    "import numpy as np\n",
    "from joblib import dump, load\n",
    "model = load('Dragon.joblib')"
   ]
  },
  {
   "cell_type": "code",
   "execution_count": 5,
   "id": "e6f9bb82",
   "metadata": {},
   "outputs": [
    {
     "data": {
      "text/plain": [
       "array([22.499])"
      ]
     },
     "execution_count": 5,
     "metadata": {},
     "output_type": "execute_result"
    }
   ],
   "source": [
    "features = np.array([[-1.43942006,  3.12628155, -1.12165014, -0.27288841, -1.55442262747,\n",
    "       -0.2165153687815, -1.31238772,  2.61111401, -1.0016859 , -0.5778192 ,\n",
    "       -0.97491834,  0.41164221, -0.861656091034]])\n",
    "model.predict(features)"
   ]
  },
  {
   "cell_type": "code",
   "execution_count": null,
   "id": "acd75b5f",
   "metadata": {},
   "outputs": [],
   "source": []
  }
 ],
 "metadata": {
  "kernelspec": {
   "display_name": "Python 3 (ipykernel)",
   "language": "python",
   "name": "python3"
  },
  "language_info": {
   "codemirror_mode": {
    "name": "ipython",
    "version": 3
   },
   "file_extension": ".py",
   "mimetype": "text/x-python",
   "name": "python",
   "nbconvert_exporter": "python",
   "pygments_lexer": "ipython3",
   "version": "3.11.1"
  }
 },
 "nbformat": 4,
 "nbformat_minor": 5
}
